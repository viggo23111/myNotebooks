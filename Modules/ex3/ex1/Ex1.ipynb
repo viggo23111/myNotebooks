{
 "cells": [
  {
   "cell_type": "code",
   "execution_count": 2,
   "id": "dacef7dc-fc8c-4620-93be-6757f262cf7b",
   "metadata": {
    "tags": []
   },
   "outputs": [],
   "source": [
    "class Student():\n",
    "\n",
    "    def __init__(self,name,gender,data_sheet, img_url, stud_id=None):\n",
    "        self.name=name\n",
    "        self.gender=gender\n",
    "        self.data_sheet=data_sheet\n",
    "        self.img_url=img_url\n",
    "        self.stud_id=stud_id\n",
    "        \n",
    "    def get_avg_grade():\n",
    "        grades = data_sheet.get_grades_as_list()\n",
    "        return sum(grades)/len(grades)\n",
    "    \n",
    "    def __str__(self):\n",
    "        return 'name: {name}, gender:{gender}, data_sheet:{data_sheet},img_url:{img_url}'.format(\n",
    "        name=self.name, gender=self.gender,data_sheet=self.data_sheet,img_url=self.img_url)\n",
    "        \n",
    "    \n",
    "class DataSheet():\n",
    "    def __init__(self,courses=[]):\n",
    "        self.courses = courses\n",
    "        \n",
    "    def get_grades_as_list():\n",
    "        grades = []\n",
    "        for course in courses:\n",
    "            grades.append(course.grade)\n",
    "        return grades\n",
    "    \n",
    "    def __str__(self):\n",
    "        return 'courses: {courses}.'.format(\n",
    "        courses=self.courses)\n",
    "            \n",
    "\n",
    "class Course():\n",
    "\n",
    "    def __init__(self, name,classroom,teacher, ECTS, grade=None):\n",
    "        self.name=name\n",
    "        self.classroom=classroom\n",
    "        self.teacher=teacher\n",
    "        self.ECTS=ECTS\n",
    "        self.grade=grade\n",
    "            \n",
    "            \n",
    "    def __str__(self):\n",
    "        return 'name: {name}, classroom: {classroom}, teacher: {teacher}, ECCS: {ECTS}, grade={grade}'.format(\n",
    "        name=self.name,classroom=self.classroom,teacher=self.teacher,ECTS=self.ECTS,grade=self.grade)"
   ]
  },
  {
   "cell_type": "code",
   "execution_count": 75,
   "id": "175b7070-023b-48b1-ac7b-84d284504ec7",
   "metadata": {},
   "outputs": [],
   "source": [
    "import names\n",
    "import random\n",
    "import csv\n",
    "\n",
    "def student_generator(number_of_students):\n",
    "    students=[]\n",
    "    i=1\n",
    "    while i <number_of_students+1:\n",
    "        grades=[0,2,4,7,10,12]\n",
    "        courses=[Course('Math','CL1','Hans',10,random.choice(grades)),Course('Science','CL2','Lars',10,random.choice(grades)),Course('English','CL3','Peter',10,random.choice(grades)),Course('History','CL4','Svend',10,random.choice(grades)),Course('Biology','CL4','Helga',10,random.choice(grades))]\n",
    "        gnd=random.choice(['male','female'])\n",
    "        students.append(Student(names.get_full_name(gender=gnd),gnd,DataSheet(random.sample(courses,k=3)),'img_url',i))\n",
    "        i+=1\n",
    "\n",
    "        with open('students.csv', 'w') as file:\n",
    "            output_writer =csv.writer(file)\n",
    "            output_writer.writerow(['id','stud_name','course_name','teacher','gender','ects','classroom','grade','img_url'])\n",
    "            for student in students:\n",
    "                for course in student.data_sheet.courses:\n",
    "                    output_writer.writerow([student.stud_id,student.name,course.name,course.teacher,student.gender,course.ECTS,course.classroom,course.grade,student.img_url])\n",
    "    \n",
    "    \n",
    "    "
   ]
  },
  {
   "cell_type": "code",
   "execution_count": 76,
   "id": "3f4928e9-36da-4fca-8345-9e9a6148685a",
   "metadata": {},
   "outputs": [],
   "source": [
    "student_generator(5)"
   ]
  },
  {
   "cell_type": "code",
   "execution_count": 77,
   "id": "2d975f94-6815-4e05-b54f-4acbe9c9aac7",
   "metadata": {
    "tags": []
   },
   "outputs": [],
   "source": [
    "def read_students():\n",
    "    data = open('students.csv')\n",
    "    csv_data = csv.reader(data,delimiter =',')\n",
    "    student_data=list\n",
    "    student_list=[]\n",
    "\n",
    "    with open('students.csv') as f:\n",
    "        reader = csv.reader(f)\n",
    "        header_row = next(reader)\n",
    "\n",
    "        for row in reader:\n",
    "            student_list.append([row[0], row[1], row[8],row[7]])\n",
    "        \n",
    "            \n",
    "    return student_list"
   ]
  },
  {
   "cell_type": "code",
   "execution_count": 78,
   "id": "500be40b-03aa-450b-bda0-78743a19518c",
   "metadata": {},
   "outputs": [
    {
     "data": {
      "text/plain": [
       "[['1', 'Christine Leko', 'img_url', '2'],\n",
       " ['1', 'Christine Leko', 'img_url', '12'],\n",
       " ['1', 'Christine Leko', 'img_url', '7'],\n",
       " ['2', 'Walter Lawrence', 'img_url', '2'],\n",
       " ['2', 'Walter Lawrence', 'img_url', '0'],\n",
       " ['2', 'Walter Lawrence', 'img_url', '10'],\n",
       " ['3', 'Sebastian Reeves', 'img_url', '0'],\n",
       " ['3', 'Sebastian Reeves', 'img_url', '2'],\n",
       " ['3', 'Sebastian Reeves', 'img_url', '12'],\n",
       " ['4', 'Charles Machesky', 'img_url', '4'],\n",
       " ['4', 'Charles Machesky', 'img_url', '4'],\n",
       " ['4', 'Charles Machesky', 'img_url', '4'],\n",
       " ['5', 'Thomas Dean', 'img_url', '2'],\n",
       " ['5', 'Thomas Dean', 'img_url', '12'],\n",
       " ['5', 'Thomas Dean', 'img_url', '4']]"
      ]
     },
     "execution_count": 78,
     "metadata": {},
     "output_type": "execute_result"
    }
   ],
   "source": [
    "read_students()"
   ]
  },
  {
   "cell_type": "code",
   "execution_count": 89,
   "id": "2a0b0347-b46e-4051-9688-57b1aa8ebd54",
   "metadata": {},
   "outputs": [
    {
     "name": "stdout",
     "output_type": "stream",
     "text": [
      "grade: 2\n",
      "grade: 2\n",
      "grade: 2\n",
      "{'grade_total: 6', 'avg_grade: 2.0', 'id: 1', 'course_total: 3', 'name: Christine Leko', 'img_url: img_url'}\n",
      "grade: 2\n",
      "grade: 2\n",
      "grade: 2\n",
      "{'grade_total: 6', 'id: 2', 'avg_grade: 2.0', 'course_total: 3', 'name: Walter Lawrence', 'img_url: img_url'}\n",
      "grade: 0\n",
      "grade: 0\n",
      "grade: 0\n",
      "{'avg_grade: 0.0', 'id: 3', 'course_total: 3', 'grade_total: 0', 'img_url: img_url', 'name: Sebastian Reeves'}\n",
      "grade: 4\n",
      "grade: 4\n",
      "grade: 4\n",
      "{'id: 4', 'avg_grade: 4.0', 'name: Charles Machesky', 'course_total: 3', 'grade_total: 12', 'img_url: img_url'}\n",
      "grade: 2\n",
      "grade: 2\n",
      "grade: 2\n",
      "{'grade_total: 6', 'name: Thomas Dean', 'id: 5', 'avg_grade: 2.0', 'course_total: 3', 'img_url: img_url'}\n",
      "['1', '2', '3', '4', '5']\n"
     ]
    }
   ],
   "source": [
    "def print_students(student_list):\n",
    "    students= []\n",
    "    students_check = []\n",
    "    for line in student_list:\n",
    "        student_id=line[0]\n",
    "        student_name=line[1]\n",
    "        \n",
    "        if line[0] not in students_check:\n",
    "            grade = 0\n",
    "            number_of_courses=0\n",
    "            \n",
    "            for student in student_list:\n",
    "                \n",
    "                if student[0] == student_id:\n",
    "                    print(\"grade: \"+line[3])\n",
    "                    grade = grade + int(line[3])\n",
    "                    number_of_courses = number_of_courses+1\n",
    "            \n",
    "            avg_grade = grade/number_of_courses\n",
    "            student = {\"id: \" + line[0],\"name: \" + line[1], \"img_url: \"+ line[2], \"grade_total: \"+str(grade), \"course_total: \"+str(number_of_courses), \"avg_grade: \" + str(avg_grade)}\n",
    "            print(student)\n",
    "            students_check.append(student_id)\n",
    "        \n",
    "    print(students_check)\n",
    "print_students(read_students())"
   ]
  }
 ],
 "metadata": {
  "kernelspec": {
   "display_name": "Python 3 (ipykernel)",
   "language": "python",
   "name": "python3"
  },
  "language_info": {
   "codemirror_mode": {
    "name": "ipython",
    "version": 3
   },
   "file_extension": ".py",
   "mimetype": "text/x-python",
   "name": "python",
   "nbconvert_exporter": "python",
   "pygments_lexer": "ipython3",
   "version": "3.10.6"
  }
 },
 "nbformat": 4,
 "nbformat_minor": 5
}
