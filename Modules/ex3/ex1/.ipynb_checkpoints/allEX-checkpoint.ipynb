{
 "cells": [
  {
   "cell_type": "markdown",
   "id": "5dabb9c8-117c-4f86-b96b-ff1f1c8a51bd",
   "metadata": {},
   "source": [
    "Exercise for the 3rd course week\n",
    "Ex 1 Classes\n",
    "Create 3 classes: Student, DataSheet and Course\n",
    "A student has a data_sheet and a data_sheet has multiple courses in particular order\n",
    "Each course has name, classroom, teacher, ETCS and optional grade if course is taken.\n",
    "In Student update __init__() so that a Student can be initiated with name, gender, data_sheet and image_url\n",
    "In DataSheet create a method to get_grades_as_list()\n",
    "In student create a method: get_avg_grade()\n",
    "Create a function that can generate n number of students with random: name, gender, courses (from a fixed list of course names), grades, img_url\n",
    "Let the function write the result to a csv file with format stud_name, course_name, teacher, ,gender, ects, classroom, grade, img_url\n",
    "Read student data into a list of Students from a csv file (Each student can appear on multiple lines):\n",
    "loop through the list and print each student with name, img_url and avg_grade.\n",
    "sort the list by avg_grade\n",
    "create a bar chart with student_name on x and avg_grade on y-axis\n",
    "Make a method on Student class that can show progression of the study in % (add up ECTS from all passed courses divided by total of 150 total points (equivalent to 5 semesters))\n",
    "Show a bar chart of distribution of study progression on x-axis and number of students in each category on y-axis. (e.g. make 10 categories from 0-100%)\n",
    "Extra: Make the Datasheet class iterable so that next(data_sheet) will return the next course in the list"
   ]
  },
  {
   "cell_type": "code",
   "execution_count": 1,
   "id": "82e0655f-7adc-4fbf-a5ad-31925f67e396",
   "metadata": {},
   "outputs": [],
   "source": [
    "class Student():\n",
    "    def __init__(self,name,gender,data_sheet,img_url,stud_id=None):\n",
    "        self.name = name\n",
    "        self.gender = gender\n",
    "        self.data_sheet = data_sheet\n",
    "        self.img_url = img_url\n",
    "        self.stud_id = stud_id\n",
    "        \n",
    "    def __str__(self):\n",
    "        return 'name: {name}, gender: {gender}, data_sheet: {data_sheet}, img_url: {img_url}.'.format(\n",
    "        name=self.name, gender=self.gender, data_sheet=self.data_sheet,img_url=self.img_url)\n",
    "    def __repr__(self):\n",
    "        return 'Student(%r, %r, %r, %r, %r)' % (self.name, self.gender, self.data_sheet,self.img_url,self.stud_id)\n",
    "    \n",
    "    def get_avg_grade(self):\n",
    "        grades = self.data_sheet.get_grades_as_list()\n",
    "        return sum(grades)/len(grades)\n",
    "    \n",
    "    def get_progression(self):\n",
    "        ECTS_total = 0\n",
    "        for course in self.data_sheet.courses:\n",
    "            ECTS_total += course.ECTS\n",
    "            \n",
    "        return (ECTS_total/150)*100\n",
    "    \n",
    "\n",
    "class DataSheet():\n",
    "    def __init__(self,courses=[]):\n",
    "        self.courses = courses\n",
    "        self.course_index = 0\n",
    "        \n",
    "    def get_grades_as_list(self):\n",
    "        grades = []\n",
    "        for course in self.courses:\n",
    "            grades.append(course.grade)\n",
    "        return grades\n",
    "    \n",
    "    def __str__(self):\n",
    "            return 'courses: {courses}.'.format(\n",
    "            courses=self.courses)\n",
    "    def __repr__(self):\n",
    "        return 'DataSheet(%r)' % (self.courses)\n",
    "    \n",
    "    def __next__(self):\n",
    "        course = self.courses[self.course_index]\n",
    "        self.course_index +=1\n",
    "        return course\n",
    "    \n",
    "\n",
    "class Course():\n",
    "    def __init__(self,name,classroom,teacher,ECTS,grade=None):\n",
    "        self.name = name\n",
    "        self.classroom = classroom\n",
    "        self.teacher = teacher\n",
    "        self.ECTS = float(ECTS)\n",
    "        self.grade=float(grade)\n",
    "        \n",
    "    def __str__(self):\n",
    "        return 'name: {name}, classroom: {classroom}, teacher: {teacher}, ECTS: {ECTS}, grade: {grade}.'.format(\n",
    "        name=self.name, classroom=self.classroom, teacher=self.teacher,ECTS=self.ECTS,grade=self.grade)\n",
    "    def __repr__(self):\n",
    "        return 'Course(%r, %r, %r, %r, %r)' % (self.name, self.classroom, self.teacher,self.ECTS,self.grade)"
   ]
  },
  {
   "cell_type": "code",
   "execution_count": 2,
   "id": "b20a506b-0b7d-4548-ad71-dd7e12519e4c",
   "metadata": {
    "jupyter": {
     "source_hidden": true
    },
    "tags": []
   },
   "outputs": [],
   "source": [
    "import names\n",
    "import random as rnd\n",
    "import csv\n",
    "\n",
    "def generate_students(number_of_students):\n",
    "    #grades = [-3,0,2,4,7,10,12]\n",
    "    #courses = [Course('Math','CL_1','Hans',10,rnd.choice(grades)),Course('Sience','CL_2','Lars',10,rnd.choice(grades)),Course('English','CL_3','Peter',10,rnd.choice(grades)),Course('History','CL_4','Sven',10,rnd.choice(grades)),Course('Biology','CL_5','Helga',10,rnd.choice(grades))]\n",
    "    students = []\n",
    "    i=1\n",
    "    while i < number_of_students+1:\n",
    "        grades = [-3,0,2,4,7,10,12]\n",
    "        courses = [Course('Math','CL_1','Hans',10,rnd.choice(grades)),Course('Sience','CL_2','Lars',10,rnd.choice(grades)),Course('English','CL_3','Peter',10,rnd.choice(grades)),Course('History','CL_4','Sven',10,rnd.choice(grades)),Course('Biology','CL_5','Helga',10,rnd.choice(grades))]\n",
    "        gnd = rnd.choice(['male','female'])\n",
    "        students.append(Student(names.get_full_name(gender=gnd),gnd,DataSheet(rnd.sample(courses,k=rnd.randrange(1,6))),'img_url',i))\n",
    "        i+=1\n",
    "    \n",
    "    with open('students.csv', 'w') as file:\n",
    "        output_writer = csv.writer(file)\n",
    "        output_writer.writerow(['id','stud_name','course_name','teacher','gender','ects','classroom','grade','img_url'])\n",
    "        \n",
    "        for student in students:\n",
    "            for course in student.data_sheet.courses:\n",
    "                output_writer.writerow([student.stud_id,student.name,course.name,course.teacher,student.gender,course.ECTS,course.classroom,course.grade,student.img_url])\n",
    "    \n"
   ]
  },
  {
   "cell_type": "code",
   "execution_count": 3,
   "id": "44b372ed-2024-4a52-aef7-d31ee0617946",
   "metadata": {},
   "outputs": [],
   "source": [
    "generate_students(10)"
   ]
  },
  {
   "cell_type": "code",
   "execution_count": 4,
   "id": "89a36a44-a839-481b-807a-daeddfe5bcf7",
   "metadata": {},
   "outputs": [
    {
     "name": "stdout",
     "output_type": "stream",
     "text": [
      "[['1', 'Christopher Falvo', 'Biology', 'Helga', 'male', '10.0', 'CL_5', '7.0', 'img_url'], ['1', 'Christopher Falvo', 'History', 'Sven', 'male', '10.0', 'CL_4', '4.0', 'img_url'], ['1', 'Christopher Falvo', 'Math', 'Hans', 'male', '10.0', 'CL_1', '12.0', 'img_url'], ['1', 'Christopher Falvo', 'Sience', 'Lars', 'male', '10.0', 'CL_2', '12.0', 'img_url'], ['1', 'Christopher Falvo', 'English', 'Peter', 'male', '10.0', 'CL_3', '0.0', 'img_url'], ['2', 'Dante Price', 'Biology', 'Helga', 'male', '10.0', 'CL_5', '7.0', 'img_url'], ['2', 'Dante Price', 'Math', 'Hans', 'male', '10.0', 'CL_1', '12.0', 'img_url'], ['2', 'Dante Price', 'Sience', 'Lars', 'male', '10.0', 'CL_2', '4.0', 'img_url'], ['2', 'Dante Price', 'English', 'Peter', 'male', '10.0', 'CL_3', '4.0', 'img_url'], ['3', 'Raphael Whittaker', 'Sience', 'Lars', 'male', '10.0', 'CL_2', '2.0', 'img_url'], ['4', 'Lois Daniels', 'Biology', 'Helga', 'female', '10.0', 'CL_5', '10.0', 'img_url'], ['4', 'Lois Daniels', 'Math', 'Hans', 'female', '10.0', 'CL_1', '-3.0', 'img_url'], ['4', 'Lois Daniels', 'History', 'Sven', 'female', '10.0', 'CL_4', '7.0', 'img_url'], ['4', 'Lois Daniels', 'Sience', 'Lars', 'female', '10.0', 'CL_2', '4.0', 'img_url'], ['4', 'Lois Daniels', 'English', 'Peter', 'female', '10.0', 'CL_3', '2.0', 'img_url'], ['5', 'Rebecca Wipf', 'Sience', 'Lars', 'female', '10.0', 'CL_2', '2.0', 'img_url'], ['5', 'Rebecca Wipf', 'English', 'Peter', 'female', '10.0', 'CL_3', '4.0', 'img_url'], ['5', 'Rebecca Wipf', 'Math', 'Hans', 'female', '10.0', 'CL_1', '-3.0', 'img_url'], ['5', 'Rebecca Wipf', 'History', 'Sven', 'female', '10.0', 'CL_4', '10.0', 'img_url'], ['6', 'Hayden Hudson', 'English', 'Peter', 'male', '10.0', 'CL_3', '0.0', 'img_url'], ['7', 'Manuel Nixon', 'Sience', 'Lars', 'male', '10.0', 'CL_2', '4.0', 'img_url'], ['7', 'Manuel Nixon', 'English', 'Peter', 'male', '10.0', 'CL_3', '4.0', 'img_url'], ['7', 'Manuel Nixon', 'History', 'Sven', 'male', '10.0', 'CL_4', '4.0', 'img_url'], ['8', 'Larry Hunt', 'Biology', 'Helga', 'male', '10.0', 'CL_5', '7.0', 'img_url'], ['8', 'Larry Hunt', 'History', 'Sven', 'male', '10.0', 'CL_4', '-3.0', 'img_url'], ['8', 'Larry Hunt', 'English', 'Peter', 'male', '10.0', 'CL_3', '10.0', 'img_url'], ['8', 'Larry Hunt', 'Sience', 'Lars', 'male', '10.0', 'CL_2', '0.0', 'img_url'], ['9', 'Mark Muncy', 'Biology', 'Helga', 'male', '10.0', 'CL_5', '10.0', 'img_url'], ['9', 'Mark Muncy', 'Math', 'Hans', 'male', '10.0', 'CL_1', '-3.0', 'img_url'], ['9', 'Mark Muncy', 'English', 'Peter', 'male', '10.0', 'CL_3', '12.0', 'img_url'], ['9', 'Mark Muncy', 'Sience', 'Lars', 'male', '10.0', 'CL_2', '2.0', 'img_url'], ['10', 'Ronald Savage', 'Biology', 'Helga', 'male', '10.0', 'CL_5', '12.0', 'img_url'], ['10', 'Ronald Savage', 'English', 'Peter', 'male', '10.0', 'CL_3', '2.0', 'img_url'], ['10', 'Ronald Savage', 'History', 'Sven', 'male', '10.0', 'CL_4', '12.0', 'img_url'], ['10', 'Ronald Savage', 'Math', 'Hans', 'male', '10.0', 'CL_1', '4.0', 'img_url'], ['10', 'Ronald Savage', 'Sience', 'Lars', 'male', '10.0', 'CL_2', '-3.0', 'img_url']]\n"
     ]
    }
   ],
   "source": [
    "def read_students():\n",
    "    students =[]\n",
    "\n",
    "    with open('students.csv') as f:\n",
    "        reader = csv.reader(f)\n",
    "        header_row = next(reader)\n",
    "        \n",
    "        for row in reader:\n",
    "            students.append(row)\n",
    "    return students\n",
    "\n",
    "print(read_students())\n"
   ]
  },
  {
   "cell_type": "code",
   "execution_count": 5,
   "id": "f9cba7cc-30a7-425e-8387-0f3eeaf1bde7",
   "metadata": {},
   "outputs": [],
   "source": [
    "def get_student_objects(student_list):\n",
    "    student = []\n",
    "    students = []\n",
    "    student_id = '0'\n",
    "    student_id_prev = '0'\n",
    "    student_courses =[]\n",
    "    \n",
    "    for line in student_list:\n",
    "        student_id = line[0]\n",
    "        \n",
    "        if student_id == student_id_prev:\n",
    "            student.append(line)\n",
    "        else:\n",
    "            student_id_prev = line[0]\n",
    "            if len(student) > 0:\n",
    "                for student_info in student:\n",
    "                    student_courses.append(Course(student_info[2],student_info[6],student_info[3],student_info[5],student_info[7]))\n",
    "                students.append(Student(student_info[1],student_info[4],DataSheet(student_courses),student_info[-1],student_info[0]))\n",
    "                student_courses=[]\n",
    "                student = []\n",
    "                student.append(line)\n",
    "            else:\n",
    "                student.append(line)\n",
    "                \n",
    "    if len(student) > 0:\n",
    "        for student_info in student:\n",
    "            student_courses.append(Course(student_info[2],student_info[6],student_info[3],student_info[5],student_info[7]))\n",
    "        students.append(Student(student_info[1],student_info[4],DataSheet(student_courses),student_info[-1],student_info[0]))\n",
    "        \n",
    "    return students"
   ]
  },
  {
   "cell_type": "code",
   "execution_count": 6,
   "id": "4689dd1d-99fe-4c23-969f-c3b8fca5ce6d",
   "metadata": {},
   "outputs": [
    {
     "name": "stdout",
     "output_type": "stream",
     "text": [
      "-----------\n",
      "name: Christopher Falvo\n",
      "AVG grade: 7.0\n",
      "image_url: img_url\n",
      "-----------\n",
      "-----------\n",
      "name: Dante Price\n",
      "AVG grade: 6.75\n",
      "image_url: img_url\n",
      "-----------\n",
      "-----------\n",
      "name: Raphael Whittaker\n",
      "AVG grade: 2.0\n",
      "image_url: img_url\n",
      "-----------\n",
      "-----------\n",
      "name: Lois Daniels\n",
      "AVG grade: 4.0\n",
      "image_url: img_url\n",
      "-----------\n",
      "-----------\n",
      "name: Rebecca Wipf\n",
      "AVG grade: 3.25\n",
      "image_url: img_url\n",
      "-----------\n",
      "-----------\n",
      "name: Hayden Hudson\n",
      "AVG grade: 0.0\n",
      "image_url: img_url\n",
      "-----------\n",
      "-----------\n",
      "name: Manuel Nixon\n",
      "AVG grade: 4.0\n",
      "image_url: img_url\n",
      "-----------\n",
      "-----------\n",
      "name: Larry Hunt\n",
      "AVG grade: 3.5\n",
      "image_url: img_url\n",
      "-----------\n",
      "-----------\n",
      "name: Mark Muncy\n",
      "AVG grade: 5.25\n",
      "image_url: img_url\n",
      "-----------\n",
      "-----------\n",
      "name: Ronald Savage\n",
      "AVG grade: 5.4\n",
      "image_url: img_url\n",
      "-----------\n"
     ]
    }
   ],
   "source": [
    "for student in get_student_objects(read_students()):\n",
    "    print('-----------')\n",
    "    print(f'name: {student.name}')\n",
    "    print(f'AVG grade: {student.get_avg_grade()}')\n",
    "    print(f'image_url: {student.img_url}')\n",
    "    print('-----------')"
   ]
  },
  {
   "cell_type": "code",
   "execution_count": 7,
   "id": "a2cac14f-b195-470e-bc31-64439899dbc2",
   "metadata": {},
   "outputs": [
    {
     "name": "stdout",
     "output_type": "stream",
     "text": [
      "0.0\n",
      "2.0\n",
      "3.25\n",
      "3.5\n",
      "4.0\n",
      "4.0\n",
      "5.25\n",
      "5.4\n",
      "6.75\n",
      "7.0\n"
     ]
    }
   ],
   "source": [
    "student_list = get_student_objects(read_students())\n",
    "\n",
    "student_list.sort(key=lambda student: student.get_avg_grade())\n",
    "\n",
    "for student in student_list:\n",
    "    print(student.get_avg_grade())"
   ]
  },
  {
   "cell_type": "code",
   "execution_count": 8,
   "id": "43cf6895-1aa1-4b82-bdaf-92c5ef219422",
   "metadata": {},
   "outputs": [
    {
     "data": {
      "text/plain": [
       "([0, 1, 2, 3, 4, 5, 6, 7, 8, 9],\n",
       " [Text(0, 0, ''),\n",
       "  Text(0, 0, ''),\n",
       "  Text(0, 0, ''),\n",
       "  Text(0, 0, ''),\n",
       "  Text(0, 0, ''),\n",
       "  Text(0, 0, ''),\n",
       "  Text(0, 0, ''),\n",
       "  Text(0, 0, ''),\n",
       "  Text(0, 0, ''),\n",
       "  Text(0, 0, '')])"
      ]
     },
     "execution_count": 8,
     "metadata": {},
     "output_type": "execute_result"
    },
    {
     "data": {
      "image/png": "[encoded data removed]",
      "text/plain": [
       "<Figure size 640x480 with 1 Axes>"
      ]
     },
     "metadata": {},
     "output_type": "display_data"
    }
   ],
   "source": [
    "import matplotlib.pyplot as plt\n",
    "plt.bar([student.name for student in student_list],[student.get_avg_grade() for student in student_list],width=0.5, align='center')\n",
    "plt.xticks(rotation=45, horizontalalignment='right',fontweight='light')"
   ]
  },
  {
   "cell_type": "code",
   "execution_count": 9,
   "id": "3f5010df-038c-4f4c-a565-95a4daa2d07a",
   "metadata": {},
   "outputs": [],
   "source": [
    "progression_lst=[0,0,0,0,0,0,0,0,0,0]\n",
    "\n",
    "for student in student_list:\n",
    "    progression_lst[int(student.get_progression()/10-1)]+=1"
   ]
  },
  {
   "cell_type": "code",
   "execution_count": 10,
   "id": "3ed1c810-9d42-4ced-88e4-51d5410249fe",
   "metadata": {},
   "outputs": [
    {
     "data": {
      "text/plain": [
       "(array([  0.,  20.,  40.,  60.,  80., 100., 120.]),\n",
       " [Text(0, 0, ''),\n",
       "  Text(0, 0, ''),\n",
       "  Text(0, 0, ''),\n",
       "  Text(0, 0, ''),\n",
       "  Text(0, 0, ''),\n",
       "  Text(0, 0, ''),\n",
       "  Text(0, 0, '')])"
      ]
     },
     "execution_count": 10,
     "metadata": {},
     "output_type": "execute_result"
    },
    {
     "data": {
      "image/png": "[encoded data removed]",
      "text/plain": [
       "<Figure size 640x480 with 1 Axes>"
      ]
     },
     "metadata": {},
     "output_type": "display_data"
    }
   ],
   "source": [
    "plt.bar([10,20,30,40,50,60,70,80,90,100],progression_lst,width=0.5, align='center')\n",
    "plt.xticks(rotation=45, horizontalalignment='right',fontweight='light')"
   ]
  },
  {
   "cell_type": "code",
   "execution_count": 11,
   "id": "5f5ff8e3-9502-4b60-844f-4e26c17ac326",
   "metadata": {},
   "outputs": [
    {
     "data": {
      "text/plain": [
       "Course('Sience', 'CL_2', 'Lars', 10.0, 2.0)"
      ]
     },
     "execution_count": 11,
     "metadata": {},
     "output_type": "execute_result"
    }
   ],
   "source": [
    "next(student_list[1].data_sheet)"
   ]
  },
  {
   "cell_type": "code",
   "execution_count": 12,
   "id": "aee21fba-da64-487c-b768-70a66f4194ff",
   "metadata": {},
   "outputs": [],
   "source": [
    "def get_closest_to_finish(students):\n",
    "    closest = []\n",
    "    \n",
    "    for student in students:\n",
    "        if len(closest) < 3:\n",
    "            closest.append(student)\n",
    "        else:\n",
    "            index = 0\n",
    "            for st in closest:\n",
    "                if st.get_progression() < student.get_progression():\n",
    "                    closest[index] = student\n",
    "                    continue\n",
    "                index += 1\n",
    "                \n",
    "    return closest"
   ]
  },
  {
   "cell_type": "code",
   "execution_count": 13,
   "id": "357a1dd2-7965-4675-8873-b4cb9b61f2d2",
   "metadata": {},
   "outputs": [
    {
     "data": {
      "text/plain": [
       "[Student('Lois Daniels', 'female', DataSheet([Course('Biology', 'CL_5', 'Helga', 10.0, 10.0), Course('Math', 'CL_1', 'Hans', 10.0, -3.0), Course('History', 'CL_4', 'Sven', 10.0, 7.0), Course('Sience', 'CL_2', 'Lars', 10.0, 4.0), Course('English', 'CL_3', 'Peter', 10.0, 2.0)]), 'img_url', '4'),\n",
       " Student('Ronald Savage', 'male', DataSheet([Course('Biology', 'CL_5', 'Helga', 10.0, 12.0), Course('English', 'CL_3', 'Peter', 10.0, 2.0), Course('History', 'CL_4', 'Sven', 10.0, 12.0), Course('Math', 'CL_1', 'Hans', 10.0, 4.0), Course('Sience', 'CL_2', 'Lars', 10.0, -3.0)]), 'img_url', '10'),\n",
       " Student('Christopher Falvo', 'male', DataSheet([Course('Biology', 'CL_5', 'Helga', 10.0, 7.0), Course('History', 'CL_4', 'Sven', 10.0, 4.0), Course('Math', 'CL_1', 'Hans', 10.0, 12.0), Course('Sience', 'CL_2', 'Lars', 10.0, 12.0), Course('English', 'CL_3', 'Peter', 10.0, 0.0)]), 'img_url', '1')]"
      ]
     },
     "execution_count": 13,
     "metadata": {},
     "output_type": "execute_result"
    }
   ],
   "source": [
    "get_closest_to_finish(student_list)"
   ]
  },
  {
   "cell_type": "code",
   "execution_count": 14,
   "id": "882b0595-9b0a-4a15-ba5d-d45f55fe683d",
   "metadata": {},
   "outputs": [],
   "source": [
    "class NotEnoughStudentsException(Exception):\n",
    "    pass"
   ]
  },
  {
   "cell_type": "code",
   "execution_count": 15,
   "id": "e899f909-44e7-4e6c-95ff-52beeff105f5",
   "metadata": {},
   "outputs": [],
   "source": [
    "def get_closest_to_finish(students):\n",
    "    closest = []\n",
    "    \n",
    "    if len(students) > 3:\n",
    "        for student in students:\n",
    "            if len(closest) < 3:\n",
    "                closest.append(student)\n",
    "            else:\n",
    "                index = 0\n",
    "                for st in closest:\n",
    "                    if st.get_progression() < student.get_progression():\n",
    "                        closest[index] = student\n",
    "                        continue\n",
    "                    index += 1\n",
    "    else:\n",
    "        raise NotEnoughStudentsException('List must contain at least three students')\n",
    "                \n",
    "    return closest"
   ]
  },
  {
   "cell_type": "code",
   "execution_count": 16,
   "id": "2b4869b5-f1a1-463f-b52f-1b5fb97277cf",
   "metadata": {},
   "outputs": [
    {
     "ename": "NotEnoughStudentsException",
     "evalue": "List must contain at least three students",
     "output_type": "error",
     "traceback": [
      "\u001b[0;31m---------------------------------------------------------------------------\u001b[0m",
      "\u001b[0;31mNotEnoughStudentsException\u001b[0m                Traceback (most recent call last)",
      "Input \u001b[0;32mIn [16]\u001b[0m, in \u001b[0;36m<cell line: 1>\u001b[0;34m()\u001b[0m\n\u001b[0;32m----> 1\u001b[0m \u001b[43mget_closest_to_finish\u001b[49m\u001b[43m(\u001b[49m\u001b[43mstudent_list\u001b[49m\u001b[43m[\u001b[49m\u001b[38;5;241;43m0\u001b[39;49m\u001b[43m:\u001b[49m\u001b[38;5;241;43m3\u001b[39;49m\u001b[43m]\u001b[49m\u001b[43m)\u001b[49m\n",
      "Input \u001b[0;32mIn [15]\u001b[0m, in \u001b[0;36mget_closest_to_finish\u001b[0;34m(students)\u001b[0m\n\u001b[1;32m     14\u001b[0m                 index \u001b[38;5;241m+\u001b[39m\u001b[38;5;241m=\u001b[39m \u001b[38;5;241m1\u001b[39m\n\u001b[1;32m     15\u001b[0m \u001b[38;5;28;01melse\u001b[39;00m:\n\u001b[0;32m---> 16\u001b[0m     \u001b[38;5;28;01mraise\u001b[39;00m NotEnoughStudentsException(\u001b[38;5;124m'\u001b[39m\u001b[38;5;124mList must contain at least three students\u001b[39m\u001b[38;5;124m'\u001b[39m)\n\u001b[1;32m     18\u001b[0m \u001b[38;5;28;01mreturn\u001b[39;00m closest\n",
      "\u001b[0;31mNotEnoughStudentsException\u001b[0m: List must contain at least three students"
     ]
    }
   ],
   "source": [
    "get_closest_to_finish(student_list[0:3])"
   ]
  },
  {
   "cell_type": "code",
   "execution_count": 17,
   "id": "490ad164-cb76-44c8-a6f9-3d6e6990f560",
   "metadata": {},
   "outputs": [],
   "source": [
    "def get_closest_to_finish_csv(students):\n",
    "    closest = []\n",
    "    \n",
    "    with open('3_best_students.csv','w') as file:\n",
    "        csv_writer = csv.writer(file,delimiter=',')\n",
    "        if len(students) > 3:\n",
    "            for student in students:\n",
    "                if len(closest) < 3:\n",
    "                    closest.append(student)\n",
    "                else:\n",
    "                    index = 0\n",
    "                    for st in closest:\n",
    "                        if st.get_progression() < student.get_progression():\n",
    "                            closest[index] = student\n",
    "                            continue\n",
    "                        index += 1\n",
    "            csv_writer.writerow(['student_id','name'])\n",
    "            for student in closest:\n",
    "                csv_writer.writerow([student.stud_id,student.name])\n",
    "        \n",
    "        else:\n",
    "            csv_writer.writerow(['Error'])\n",
    "            csv_writer.writerow(['List must contain at least three students'])\n",
    "            raise NotEnoughStudentsException('List must contain at least three students')\n",
    "            "
   ]
  },
  {
   "cell_type": "code",
   "execution_count": 18,
   "id": "2d350771-2611-4a75-8efd-4e8c7ea5f0eb",
   "metadata": {},
   "outputs": [
    {
     "ename": "NotEnoughStudentsException",
     "evalue": "List must contain at least three students",
     "output_type": "error",
     "traceback": [
      "\u001b[0;31m---------------------------------------------------------------------------\u001b[0m",
      "\u001b[0;31mNotEnoughStudentsException\u001b[0m                Traceback (most recent call last)",
      "Input \u001b[0;32mIn [18]\u001b[0m, in \u001b[0;36m<cell line: 1>\u001b[0;34m()\u001b[0m\n\u001b[0;32m----> 1\u001b[0m \u001b[43mget_closest_to_finish_csv\u001b[49m\u001b[43m(\u001b[49m\u001b[43mstudent_list\u001b[49m\u001b[43m[\u001b[49m\u001b[38;5;241;43m0\u001b[39;49m\u001b[43m:\u001b[49m\u001b[38;5;241;43m3\u001b[39;49m\u001b[43m]\u001b[49m\u001b[43m)\u001b[49m\n",
      "Input \u001b[0;32mIn [17]\u001b[0m, in \u001b[0;36mget_closest_to_finish_csv\u001b[0;34m(students)\u001b[0m\n\u001b[1;32m     22\u001b[0m csv_writer\u001b[38;5;241m.\u001b[39mwriterow([\u001b[38;5;124m'\u001b[39m\u001b[38;5;124mError\u001b[39m\u001b[38;5;124m'\u001b[39m])\n\u001b[1;32m     23\u001b[0m csv_writer\u001b[38;5;241m.\u001b[39mwriterow([\u001b[38;5;124m'\u001b[39m\u001b[38;5;124mList must contain at least three students\u001b[39m\u001b[38;5;124m'\u001b[39m])\n\u001b[0;32m---> 24\u001b[0m \u001b[38;5;28;01mraise\u001b[39;00m NotEnoughStudentsException(\u001b[38;5;124m'\u001b[39m\u001b[38;5;124mList must contain at least three students\u001b[39m\u001b[38;5;124m'\u001b[39m)\n",
      "\u001b[0;31mNotEnoughStudentsException\u001b[0m: List must contain at least three students"
     ]
    }
   ],
   "source": [
    "get_closest_to_finish_csv(student_list[0:3])"
   ]
  },
  {
   "cell_type": "code",
   "execution_count": 20,
   "id": "2796608f-1ff9-4c77-81a9-8e245906b870",
   "metadata": {},
   "outputs": [],
   "source": [
    "def piechart(students):\n",
    "    data ={}\n",
    "    for student in students:\n",
    "        if student.get_progression() in data.keys():\n",
    "            data[student.get_progression()] +=1\n",
    "        else:\n",
    "            data[student.get_progression()] = 1\n",
    "    fig1, ax1 = plt.subplots() # first returned is the containing figure (fig1), then the subplot Axe object(s) (ax1)\n",
    "    ax1.pie(data.values(), labels=data.keys(),autopct=lambda p:'{:.2f}%({:.0f})'.format(p,(p/100)*sum(data.values())), \n",
    "        #autopct=make_autopct(data.values()), \n",
    "        #autopct='%.1f', \n",
    "        # autopct= a format string like '%1.2f%%' for showing pct sign and 2 decimals\n",
    "        shadow=True, startangle=90)\n",
    "    ax1.set_aspect('equal')\n",
    "    ax1.legend(data.keys(), loc='upper right') # use instead of labels in ax1.pie(...)\n",
    "    #ax1.axis('equal')  \n",
    "    #plt.tight_layout()\n",
    "    plt.show()"
   ]
  },
  {
   "cell_type": "code",
   "execution_count": 21,
   "id": "542ed449-837e-4f65-b47a-89214bf24330",
   "metadata": {},
   "outputs": [
    {
     "data": {
      "image/png": "[encoded data removed]",
      "text/plain": [
       "<Figure size 640x480 with 1 Axes>"
      ]
     },
     "metadata": {},
     "output_type": "display_data"
    }
   ],
   "source": [
    "piechart(student_list)\n"
   ]
  }
 ],
 "metadata": {
  "kernelspec": {
   "display_name": "Python 3 (ipykernel)",
   "language": "python",
   "name": "python3"
  },
  "language_info": {
   "codemirror_mode": {
    "name": "ipython",
    "version": 3
   },
   "file_extension": ".py",
   "mimetype": "text/x-python",
   "name": "python",
   "nbconvert_exporter": "python",
   "pygments_lexer": "ipython3",
   "version": "3.10.6"
  }
 },
 "nbformat": 4,
 "nbformat_minor": 5
}
