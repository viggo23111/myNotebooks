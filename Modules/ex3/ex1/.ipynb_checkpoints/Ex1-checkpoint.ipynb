{
 "cells": [
  {
   "cell_type": "code",
   "execution_count": 46,
   "id": "dacef7dc-fc8c-4620-93be-6757f262cf7b",
   "metadata": {
    "tags": []
   },
   "outputs": [],
   "source": [
    "class Student():\n",
    "\n",
    "    def __init__(self, name,gender,data_sheet, img_url):\n",
    "        self.name=name\n",
    "        self.gender=gender\n",
    "        self.data_sheet=data_sheet\n",
    "        self.img_url=img_url\n",
    "        \n",
    "    def get_avg_grade():\n",
    "        grades = data_sheet.get_grades_as_list()\n",
    "        return sum(grades)/len(grades)\n",
    "    \n",
    "    def __str__(self):\n",
    "        return 'name: {name}, gender:{gender}, data_sheet:{data_sheet},img_url:{img_url}'.format(\n",
    "        name=self.name, gender=self.gender,data_sheet=self.data_sheet,img_url=self.img_url)\n",
    "        \n",
    "    \n",
    "class DataSheet():\n",
    "    def __init__(self,courses=[]):\n",
    "        self.courses = courses\n",
    "        \n",
    "    def get_grades_as_list():\n",
    "        grades = []\n",
    "        for course in courses:\n",
    "            grades.append(course.grade)\n",
    "        return grades\n",
    "    \n",
    "    def __str__(self):\n",
    "        return 'courses: {courses}.'.format(\n",
    "        courses=self.courses)\n",
    "            \n",
    "\n",
    "class Course():\n",
    "\n",
    "    def __init__(self, name,classroom,teacher, ECTS, grade=None):\n",
    "        self.name=name\n",
    "        self.classroom=classroom\n",
    "        self.teacher=teacher\n",
    "        self.ECTS=ECTS\n",
    "        self.grade=grade\n",
    "            \n",
    "            \n",
    "    def __str__(self):\n",
    "        return 'name: {name}, classroom: {classroom}, teacher: {teacher}, ECCS: {ECTS}, grade={grade}'.format(\n",
    "        name=self.name,classroom=self.classroom,teacher=self.teacher,ECTS=self.ECTS,grade=self.grade)"
   ]
  },
  {
   "cell_type": "code",
   "execution_count": 90,
   "id": "175b7070-023b-48b1-ac7b-84d284504ec7",
   "metadata": {},
   "outputs": [
    {
     "ename": "IndentationError",
     "evalue": "unexpected indent (494634107.py, line 11)",
     "output_type": "error",
     "traceback": [
      "\u001b[0;36m  Input \u001b[0;32mIn [90]\u001b[0;36m\u001b[0m\n\u001b[0;31m    gnd=random.choice(['male','female'])\u001b[0m\n\u001b[0m    ^\u001b[0m\n\u001b[0;31mIndentationError\u001b[0m\u001b[0;31m:\u001b[0m unexpected indent\n"
     ]
    }
   ],
   "source": [
    "import names\n",
    "import random\n",
    "import csv\n",
    "\n",
    "def student_generator(number_of_students):\n",
    "    students=[]\n",
    "    i=0\n",
    "    while i <number_of_students:\n",
    "        grades=[-3,0,2,4,7,10,12]\n",
    "        courses=[Course('Math','CL1','Hans',10,random.choice(grades)),Course('Science','CL2','Lars',10,random.choice(grades)),Course('English','CL3','Peter',10,random.choice(grades)),Course('History','CL4','Svend',10,random.choice(grades)),Course('Biology','CL4','Helga',10,random.choice(grades))]\n",
    "        gnd=random.choice(['male','female'])\n",
    "        students.append(Student(names.get_full_name(gender=gnd),gnd,DataSheet(random.sample(courses,k=3)),'img_url'))\n",
    "        i+=1\n",
    "\n",
    "        with open('students.csv', 'w') as file:\n",
    "            output_writer =csv.writer(file)\n",
    "            output_writer.writerow(['stud_name','course_name','teacher','gender','ects','classroom','grade','img_url'])\n",
    "            for student in students:\n",
    "                for course in student.data_sheet.courses:\n",
    "                    output_writer.writerow([student.name,course.name,course.teacher,student.gender,course.ECTS,course.classroom,course.grade,student.img_url])\n",
    "    \n",
    "    \n",
    "    "
   ]
  },
  {
   "cell_type": "code",
   "execution_count": 89,
   "id": "3f4928e9-36da-4fca-8345-9e9a6148685a",
   "metadata": {},
   "outputs": [],
   "source": [
    "student_generator(5)"
   ]
  },
  {
   "cell_type": "code",
   "execution_count": 87,
   "id": "2d975f94-6815-4e05-b54f-4acbe9c9aac7",
   "metadata": {
    "tags": []
   },
   "outputs": [],
   "source": [
    "def read_students():\n",
    "    students=[]\n",
    "\n",
    "    with open('students.csv') as f:\n",
    "        reader = csv.reader(f)\n",
    "        header_row = next(reader)\n",
    "\n",
    "        for row in reader:\n",
    "            students.append({row[0], row[7],}  )\n",
    "            \n",
    "    print(students)"
   ]
  },
  {
   "cell_type": "code",
   "execution_count": 88,
   "id": "500be40b-03aa-450b-bda0-78743a19518c",
   "metadata": {},
   "outputs": [
    {
     "name": "stdout",
     "output_type": "stream",
     "text": [
      "[{'Christa Foreman', 'img_url'}, {'Christa Foreman', 'img_url'}, {'Christa Foreman', 'img_url'}, {'img_url', 'Miguel Pennington'}, {'img_url', 'Miguel Pennington'}, {'img_url', 'Miguel Pennington'}, {'img_url', 'Lyle Batchelor'}, {'img_url', 'Lyle Batchelor'}, {'img_url', 'Lyle Batchelor'}, {'Harriet Richardson', 'img_url'}, {'Harriet Richardson', 'img_url'}, {'Harriet Richardson', 'img_url'}, {'Stephen Kendrick', 'img_url'}, {'Stephen Kendrick', 'img_url'}, {'Stephen Kendrick', 'img_url'}]\n"
     ]
    }
   ],
   "source": [
    "read_students()"
   ]
  }
 ],
 "metadata": {
  "kernelspec": {
   "display_name": "Python 3 (ipykernel)",
   "language": "python",
   "name": "python3"
  },
  "language_info": {
   "codemirror_mode": {
    "name": "ipython",
    "version": 3
   },
   "file_extension": ".py",
   "mimetype": "text/x-python",
   "name": "python",
   "nbconvert_exporter": "python",
   "pygments_lexer": "ipython3",
   "version": "3.10.6"
  }
 },
 "nbformat": 4,
 "nbformat_minor": 5
}
