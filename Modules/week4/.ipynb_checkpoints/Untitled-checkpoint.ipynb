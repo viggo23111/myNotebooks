{
 "cells": [
  {
   "cell_type": "markdown",
   "id": "05145fb4-e1c5-4809-aa09-c174d9d3bd1b",
   "metadata": {},
   "source": [
    "## Class exercise 1: table\n",
    "![](images/numpy_slice_ex.png)\n",
    "- on the above image find the 5 different slicings using only the array slicing notation\n"
   ]
  },
  {
   "cell_type": "code",
   "execution_count": 32,
   "id": "7eecf27c-de5d-460c-8e55-bcf2041ce181",
   "metadata": {},
   "outputs": [
    {
     "name": "stdout",
     "output_type": "stream",
     "text": [
      "[[10 11 12 13 14]\n",
      " [15 16 17 18 19]\n",
      " [20 21 22 23 24]\n",
      " [25 26 27 28 29]]\n",
      "yellow: 10 \n",
      "red: [11 12 13] \n",
      "cyan: [[11 13]\n",
      " [16 18]\n",
      " [21 23]\n",
      " [26 28]] \n",
      "blue: [14 24] \n",
      "green:\n",
      " [12 17 22]\n"
     ]
    }
   ],
   "source": [
    "import numpy as np\n",
    "a = np.arange(10, 30).reshape(4,5)\n",
    "print(a)\n",
    "yellow = a[0, 0]\n",
    "red    = a[0, 1:4] \n",
    "blue   = a[0::2, 4] \n",
    "green  = a[0:3,2]\n",
    "cyan = a[:,1::2]   \n",
    "print('yellow:',yellow,'\\nred:',red,'\\ncyan:',cyan,'\\nblue:',blue,'\\ngreen:\\n',green)"
   ]
  },
  {
   "cell_type": "markdown",
   "id": "c02af406-6378-4e4b-80b8-32ffe3584b9f",
   "metadata": {},
   "source": [
    "Class exercise 2: cube\n",
    "\n",
    "1. Slice out [12 13 14] from the above cube using only one slice. e.g: a[:,:,:]\n",
    "2. Slice out [3 12 21].\n",
    "3. Slice out all y-values where x is 2 and z is 0."
   ]
  },
  {
   "cell_type": "code",
   "execution_count": 76,
   "id": "ac623073-a742-4c3e-8d58-38f944353801",
   "metadata": {},
   "outputs": [
    {
     "name": "stdout",
     "output_type": "stream",
     "text": [
      "[12 13 14]\n",
      "[ 3 12 21]\n",
      "[2 5 8]\n"
     ]
    }
   ],
   "source": [
    "a = np.arange(0, 27).reshape((3, 3, 3))\n",
    "task1= a[1,1]\n",
    "task2=a[0:3,1,0]\n",
    "task3= a[0,:,2]\n",
    "\n",
    "print(task1)\n",
    "print(task2)\n",
    "print(task3)"
   ]
  },
  {
   "cell_type": "markdown",
   "id": "d36a2428-46ea-4f84-a910-5f6d1e48e0e2",
   "metadata": {},
   "source": [
    "### Class exercise: masking\n",
    "- For the dataset: `data = np.arange(1,101).reshape(10,10)`\n",
    "  - apply a mask that will return only the even numbers\n",
    "  - using `np.where()` return only numbers that ends with 6"
   ]
  },
  {
   "cell_type": "code",
   "execution_count": 84,
   "id": "069ca0ce-008a-4fca-8c14-3b1219c42e00",
   "metadata": {},
   "outputs": [
    {
     "name": "stdout",
     "output_type": "stream",
     "text": [
      "[  2   4   6   8  10  12  14  16  18  20  22  24  26  28  30  32  34  36\n",
      "  38  40  42  44  46  48  50  52  54  56  58  60  62  64  66  68  70  72\n",
      "  74  76  78  80  82  84  86  88  90  92  94  96  98 100]\n",
      "[ 6 16 26 36 46 56 66 76 86 96]\n"
     ]
    }
   ],
   "source": [
    "data = np.arange(1,101).reshape(10,10)\n",
    "a = data[data%2==0]\n",
    "print(a)\n",
    "b = data[np.where((data%10==6))]\n",
    "print(b)\n"
   ]
  }
 ],
 "metadata": {
  "kernelspec": {
   "display_name": "Python 3 (ipykernel)",
   "language": "python",
   "name": "python3"
  },
  "language_info": {
   "codemirror_mode": {
    "name": "ipython",
    "version": 3
   },
   "file_extension": ".py",
   "mimetype": "text/x-python",
   "name": "python",
   "nbconvert_exporter": "python",
   "pygments_lexer": "ipython3",
   "version": "3.10.6"
  }
 },
 "nbformat": 4,
 "nbformat_minor": 5
}
