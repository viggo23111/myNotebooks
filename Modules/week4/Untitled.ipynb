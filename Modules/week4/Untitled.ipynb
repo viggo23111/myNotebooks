{
 "cells": [
  {
   "cell_type": "markdown",
   "id": "05145fb4-e1c5-4809-aa09-c174d9d3bd1b",
   "metadata": {},
   "source": [
    "## Class exercise 1: table\n",
    "![](images/numpy_slice_ex.png)\n",
    "- on the above image find the 5 different slicings using only the array slicing notation\n"
   ]
  },
  {
   "cell_type": "code",
   "execution_count": null,
   "id": "7eecf27c-de5d-460c-8e55-bcf2041ce181",
   "metadata": {},
   "outputs": [
    {
     "name": "stdout",
     "output_type": "stream",
     "text": [
      "[[10 11 12 13 14]\n",
      " [15 16 17 18 19]\n",
      " [20 21 22 23 24]\n",
      " [25 26 27 28 29]]\n",
      "yellow: 10 \n",
      "red: [11 12 13] \n",
      "cyan: [[11 13]\n",
      " [16 18]\n",
      " [21 23]\n",
      " [26 28]] \n",
      "blue: [14 24] \n",
      "green:\n",
      " [12 17 22]\n"
     ]
    }
   ],
   "source": [
    "import numpy as np\n",
    "a = np.arange(10, 30).reshape(4,5)\n",
    "print(a)\n",
    "yellow = a[0, 0]\n",
    "red    = a[0, 1:4] \n",
    "blue   = a[0::2, 4] \n",
    "green  = a[0:3,2]\n",
    "cyan = a[:,1::2]   \n",
    "print('yellow:',yellow,'\\nred:',red,'\\ncyan:',cyan,'\\nblue:',blue,'\\ngreen:\\n',green)"
   ]
  },
  {
   "cell_type": "markdown",
   "id": "c02af406-6378-4e4b-80b8-32ffe3584b9f",
   "metadata": {},
   "source": [
    "Class exercise 2: cube\n",
    "\n",
    "1. Slice out [12 13 14] from the above cube using only one slice. e.g: a[:,:,:]\n",
    "2. Slice out [3 12 21].\n",
    "3. Slice out all y-values where x is 2 and z is 0."
   ]
  },
  {
   "cell_type": "code",
   "execution_count": 76,
   "id": "ac623073-a742-4c3e-8d58-38f944353801",
   "metadata": {},
   "outputs": [
    {
     "name": "stdout",
     "output_type": "stream",
     "text": [
      "[12 13 14]\n",
      "[ 3 12 21]\n",
      "[2 5 8]\n"
     ]
    }
   ],
   "source": [
    "a = np.arange(0, 27).reshape((3, 3, 3))\n",
    "task1= a[1,1]\n",
    "task2=a[0:3,1,0]\n",
    "task3= a[0,:,2]\n",
    "\n",
    "print(task1)\n",
    "print(task2)\n",
    "print(task3)"
   ]
  },
  {
   "cell_type": "markdown",
   "id": "d36a2428-46ea-4f84-a910-5f6d1e48e0e2",
   "metadata": {},
   "source": [
    "### Class exercise: masking\n",
    "- For the dataset: `data = np.arange(1,101).reshape(10,10)`\n",
    "  - apply a mask that will return only the even numbers\n",
    "  - using `np.where()` return only numbers that ends with 6"
   ]
  },
  {
   "cell_type": "code",
   "execution_count": 5,
   "id": "069ca0ce-008a-4fca-8c14-3b1219c42e00",
   "metadata": {},
   "outputs": [
    {
     "name": "stdout",
     "output_type": "stream",
     "text": [
      "[  2   4   6   8  10  12  14  16  18  20  22  24  26  28  30  32  34  36\n",
      "  38  40  42  44  46  48  50  52  54  56  58  60  62  64  66  68  70  72\n",
      "  74  76  78  80  82  84  86  88  90  92  94  96  98 100]\n",
      "[ 6 16 26 36 46 56 66 76 86 96]\n"
     ]
    }
   ],
   "source": [
    "data = np.arange(1,101).reshape(10,10)\n",
    "a = data[data%2==0]\n",
    "print(a)\n",
    "b = data[np.where((data%10==6))]\n",
    "print(b)\n"
   ]
  },
  {
   "cell_type": "markdown",
   "id": "7eee9fc8-e8d3-47a2-9148-e10d615dfe8c",
   "metadata": {},
   "source": [
    "## class exercise: extracting\n",
    "Based on the Copenhagen population data do the following (not including danish citizens):\n",
    "1. Find the 10 largest population groups\n",
    "2. Find the 10 largest population groups of children (0-17 y.o.) \n",
    "3. Create a barplot with the 10 largest groups on x-axis and 2 bars of both adult and children on y-axis\n",
    "  - make one bar red and the other green\n",
    "  - give them labels"
   ]
  },
  {
   "cell_type": "markdown",
   "id": "4b2c1d31-186d-47a3-b540-53b1f452bac5",
   "metadata": {
    "tags": []
   },
   "source": [
    "Exercise numpy and csv\n",
    "load the csv file: befkbhalderstatkode.csv into a numpy ndarray\n",
    "How many german children of 0 years were there in Copenhagen in 2015?\n",
    "create a function that can take any combination of the 4 parameters:AAR,BYDEL,ALDER,STATKODE and return population data\n",
    "create a new function like previous so that it can sum values for all ages if age is not provided to the function\n",
    "further add functionality to sum values if citizenship or area was not provided to function.\n",
    "create a new function that can also give average values for each year if year whas not provided.\n",
    "create a function, that given year and nationality can return which area had the most of these nationals by that year. Test it by finding out which area had the most Moroccan people in both 1992 and 2015\n",
    "Find the Area(s) where fewest foreingers lived in Copenhagen in 1992 and 2015 respectively\n",
    "Find out what age most French people have in 2015"
   ]
  },
  {
   "cell_type": "code",
   "execution_count": 20,
   "id": "638a89fc-0fc4-442c-89b6-272f9c1d7f7b",
   "metadata": {
    "tags": []
   },
   "outputs": [],
   "source": [
    "# read data from csv file into 2d numpy array\n",
    "import numpy as np\n",
    "filename = '../../../data/befkbhalderstatkode.csv'\n",
    "\n",
    "bef_stats_df = np.genfromtxt(filename, delimiter=',', dtype=np.uint, skip_header=1)\n",
    "dd = bef_stats_df"
   ]
  },
  {
   "cell_type": "code",
   "execution_count": 26,
   "id": "becb8bb4-7e40-4457-8eb2-7407ad78b5b4",
   "metadata": {},
   "outputs": [
    {
     "name": "stdout",
     "output_type": "stream",
     "text": [
      "[[2015    1    0 5180    3]\n",
      " [2015    2    0 5180    5]\n",
      " [2015    3    0 5180    7]\n",
      " [2015    4    0 5180    1]\n",
      " [2015    5    0 5180    1]\n",
      " [2015    6    0 5180    2]\n",
      " [2015    8    0 5180    2]\n",
      " [2015    9    0 5180    6]\n",
      " [2015   10    0 5180    8]]\n",
      "35\n"
     ]
    }
   ],
   "source": [
    "\n",
    "mask = (dd[:,0] == 2015) & (dd[:,2] == 0) & (dd[:,3] == 5180)\n",
    "print(np.sum(dd[mask][:,4]))"
   ]
  },
  {
   "cell_type": "code",
   "execution_count": 31,
   "id": "f21a6170-b7cd-4fb6-90e6-a3caf2ae307a",
   "metadata": {},
   "outputs": [],
   "source": [
    "def getPopulationData(AAR,BYDEL,ALDER,STATKODE):\n",
    "    mask = (dd[:,0] == AAR) & (dd[:,1] == BYDEL) & (dd[:,2] == ALDER) & (dd[:,3] == STATKODE)\n",
    "    return(dd[mask])\n",
    "    "
   ]
  },
  {
   "cell_type": "code",
   "execution_count": 33,
   "id": "51e67950-4a05-4e3c-b786-6d081e327335",
   "metadata": {},
   "outputs": [
    {
     "data": {
      "text/plain": [
       "array([[2015,    1,   15, 5100,  367]], dtype=uint64)"
      ]
     },
     "execution_count": 33,
     "metadata": {},
     "output_type": "execute_result"
    }
   ],
   "source": [
    "getPopulationData(2015,1,15,5100)"
   ]
  },
  {
   "cell_type": "code",
   "execution_count": 48,
   "id": "81472f7b-663b-475f-a32a-5014bc8a6176",
   "metadata": {},
   "outputs": [],
   "source": [
    "def get_pop_adv(AAR,BYDEL,STATKODE,ALDER=None):\n",
    "    year = dd[:,0] ==AAR\n",
    "    city_part = dd[:,1] ==BYDEL\n",
    "    state_code=dd[:,3] == STATKODE\n",
    "    \n",
    "    if ALDER !=None:\n",
    "        age= dd[:,2] ==ALDER\n",
    "        return dd[year & city_part & state_code & age]\n",
    "    else:\n",
    "        return np.sum(dd[year & city_part & state_code])\n",
    "        \n",
    "    "
   ]
  },
  {
   "cell_type": "code",
   "execution_count": 49,
   "id": "bc6a5a81-af3d-49ce-ba72-7ecdc4bf59f1",
   "metadata": {},
   "outputs": [
    {
     "data": {
      "text/plain": [
       "array([[2015,    1,   10, 5100,  404]], dtype=uint64)"
      ]
     },
     "execution_count": 49,
     "metadata": {},
     "output_type": "execute_result"
    }
   ],
   "source": [
    "get_pop_adv(2015,1,5100,10)"
   ]
  }
 ],
 "metadata": {
  "kernelspec": {
   "display_name": "Python 3 (ipykernel)",
   "language": "python",
   "name": "python3"
  },
  "language_info": {
   "codemirror_mode": {
    "name": "ipython",
    "version": 3
   },
   "file_extension": ".py",
   "mimetype": "text/x-python",
   "name": "python",
   "nbconvert_exporter": "python",
   "pygments_lexer": "ipython3",
   "version": "3.10.6"
  }
 },
 "nbformat": 4,
 "nbformat_minor": 5
}
