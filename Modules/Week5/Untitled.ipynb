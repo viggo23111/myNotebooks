{
 "cells": [
  {
   "cell_type": "code",
   "execution_count": 3,
   "id": "9cfd79ed-a5b1-4da0-a14d-c98cc3f4f081",
   "metadata": {},
   "outputs": [],
   "source": [
    "import pandas as pd\n",
    "import numpy as np\n"
   ]
  },
  {
   "cell_type": "markdown",
   "id": "30756a30-9756-4c91-82e1-ded246972df6",
   "metadata": {},
   "source": [
    "## 01 Class exercise slicing dataframe\n",
    "Use this data:\n",
    "```python\n",
    "data = np.array([['','Col1','Col2','col3'],\n",
    "                ['Row1',1,2,3],\n",
    "                ['Row2',4,5,6],\n",
    "                ['Row3',7,8,9]])\n",
    "```\n",
    "1. Create a DataFrame (wrap the data above in a pandas DataFrame in a way that printing the dataframe and its index and column attributes gives this result)  \n",
    "`pd.DataFrame(data=data[1:4,1:4], columns=data[0,1:4], index=data[1:4,0])`  \n",
    "\n",
    "``` \n",
    "     Col1 Col2 col3  \n",
    "Row1    1    2    3\n",
    "Row2    4    5    6\n",
    "Row3    7    8    9\n",
    "\n",
    "Index(['Row1', 'Row2', 'Row3'], dtype='object')\n",
    "Index(['Col1', 'Col2', 'col3'], dtype='object')\n",
    "```\n",
    "\n",
    "2. Make slices of data:\n",
    "   1. second column using column name\n",
    "   2. third column using column index (.iloc[])\n",
    "   3. slice element at third row of second column (use .iloc())"
   ]
  },
  {
   "cell_type": "code",
   "execution_count": 10,
   "id": "2f798f45-824c-4969-bcca-78e82741efa2",
   "metadata": {},
   "outputs": [],
   "source": [
    "data = np.array([['','Col1','Col2','col3'],\n",
    "                ['Row1',1,2,3],\n",
    "                ['Row2',4,5,6],\n",
    "                ['Row3',7,8,9]])\n",
    "pd_data = pd.DataFrame(data=data[1:4,1:4], columns=data[0,1:4], index=data[1:4,0])\n",
    "  "
   ]
  },
  {
   "cell_type": "code",
   "execution_count": 11,
   "id": "cc8219ba-d437-49ca-b987-df9a88eba5be",
   "metadata": {},
   "outputs": [
    {
     "data": {
      "text/plain": [
       "Row1    2\n",
       "Row2    5\n",
       "Row3    8\n",
       "Name: Col2, dtype: object"
      ]
     },
     "execution_count": 11,
     "metadata": {},
     "output_type": "execute_result"
    }
   ],
   "source": [
    "pd_data['Col2']"
   ]
  },
  {
   "cell_type": "code",
   "execution_count": 12,
   "id": "2e646582-350a-4a6e-8982-bbc4b6919d94",
   "metadata": {},
   "outputs": [
    {
     "data": {
      "text/plain": [
       "Row1    3\n",
       "Row2    6\n",
       "Row3    9\n",
       "Name: col3, dtype: object"
      ]
     },
     "execution_count": 12,
     "metadata": {},
     "output_type": "execute_result"
    }
   ],
   "source": [
    "pd_data.iloc[:,2]"
   ]
  },
  {
   "cell_type": "code",
   "execution_count": 13,
   "id": "7a4e0ac1-f24d-447a-a093-b2831a4a3f1c",
   "metadata": {},
   "outputs": [
    {
     "data": {
      "text/plain": [
       "'8'"
      ]
     },
     "execution_count": 13,
     "metadata": {},
     "output_type": "execute_result"
    }
   ],
   "source": [
    "pd_data.iloc[2,1]"
   ]
  },
  {
   "cell_type": "markdown",
   "id": "15cbfc45-4865-483e-8890-04bbd2692801",
   "metadata": {},
   "source": [
    "## 02 Exercise Pandas Data Series\n",
    "The CO2 Emission data set above is not updated since 2014\n",
    "1. Create a Pandas Series with emission data from 2014 for each country or region\n",
    "2. Find the 10 Countries/Regions with the highest emissions in 2014 and show emission numbers (reverse sorted)\n",
    "3. Remove if you can those rows that are not countries (regions and aggregated groups) (hint:  [ISO 3166, Alpha-3 country codes](https://www.iban.com/country-codes), a csv file can be found here: `/data/country_codes.csv`)\n",
    "    - Find the 10 countries with highest emissions in 2014\n",
    "4. Plot the emissions of China and USA over time respectively"
   ]
  },
  {
   "cell_type": "code",
   "execution_count": 33,
   "id": "de01d1bd-23e3-4b7c-b967-bf1f1ae0071a",
   "metadata": {},
   "outputs": [
    {
     "data": {
      "text/html": [
       "<div>\n",
       "<style scoped>\n",
       "    .dataframe tbody tr th:only-of-type {\n",
       "        vertical-align: middle;\n",
       "    }\n",
       "\n",
       "    .dataframe tbody tr th {\n",
       "        vertical-align: top;\n",
       "    }\n",
       "\n",
       "    .dataframe thead th {\n",
       "        text-align: right;\n",
       "    }\n",
       "</style>\n",
       "<table border=\"1\" class=\"dataframe\">\n",
       "  <thead>\n",
       "    <tr style=\"text-align: right;\">\n",
       "      <th></th>\n",
       "      <th>Country Name</th>\n",
       "      <th>Country Code</th>\n",
       "      <th>2014</th>\n",
       "    </tr>\n",
       "  </thead>\n",
       "  <tbody>\n",
       "    <tr>\n",
       "      <th>243</th>\n",
       "      <td>Tuvalu</td>\n",
       "      <td>TUV</td>\n",
       "      <td>11.001</td>\n",
       "    </tr>\n",
       "    <tr>\n",
       "      <th>177</th>\n",
       "      <td>Nauru</td>\n",
       "      <td>NRU</td>\n",
       "      <td>47.671</td>\n",
       "    </tr>\n",
       "    <tr>\n",
       "      <th>135</th>\n",
       "      <td>Liechtenstein</td>\n",
       "      <td>LIE</td>\n",
       "      <td>47.671</td>\n",
       "    </tr>\n",
       "    <tr>\n",
       "      <th>122</th>\n",
       "      <td>Kiribati</td>\n",
       "      <td>KIR</td>\n",
       "      <td>58.672</td>\n",
       "    </tr>\n",
       "    <tr>\n",
       "      <th>217</th>\n",
       "      <td>Sao Tome and Principe</td>\n",
       "      <td>STP</td>\n",
       "      <td>113.677</td>\n",
       "    </tr>\n",
       "    <tr>\n",
       "      <th>237</th>\n",
       "      <td>Tonga</td>\n",
       "      <td>TON</td>\n",
       "      <td>113.677</td>\n",
       "    </tr>\n",
       "    <tr>\n",
       "      <th>77</th>\n",
       "      <td>Micronesia, Fed. Sts.</td>\n",
       "      <td>FSM</td>\n",
       "      <td>135.679</td>\n",
       "    </tr>\n",
       "    <tr>\n",
       "      <th>153</th>\n",
       "      <td>Marshall Islands</td>\n",
       "      <td>MHL</td>\n",
       "      <td>143.013</td>\n",
       "    </tr>\n",
       "    <tr>\n",
       "      <th>44</th>\n",
       "      <td>Comoros</td>\n",
       "      <td>COM</td>\n",
       "      <td>154.014</td>\n",
       "    </tr>\n",
       "    <tr>\n",
       "      <th>256</th>\n",
       "      <td>Vanuatu</td>\n",
       "      <td>VUT</td>\n",
       "      <td>154.014</td>\n",
       "    </tr>\n",
       "  </tbody>\n",
       "</table>\n",
       "</div>"
      ],
      "text/plain": [
       "              Country Name Country Code     2014\n",
       "243                 Tuvalu          TUV   11.001\n",
       "177                  Nauru          NRU   47.671\n",
       "135          Liechtenstein          LIE   47.671\n",
       "122               Kiribati          KIR   58.672\n",
       "217  Sao Tome and Principe          STP  113.677\n",
       "237                  Tonga          TON  113.677\n",
       "77   Micronesia, Fed. Sts.          FSM  135.679\n",
       "153       Marshall Islands          MHL  143.013\n",
       "44                 Comoros          COM  154.014\n",
       "256                Vanuatu          VUT  154.014"
      ]
     },
     "execution_count": 33,
     "metadata": {},
     "output_type": "execute_result"
    }
   ],
   "source": [
    "data = pd.read_csv('../../../data/API_EN.ATM.CO2E.KT_DS2_en_csv_v2_1345584.csv', skiprows=4)\n",
    "columns_names = data.columns\n",
    "countries = data['Country Name']\n",
    "\n",
    "data_2014 = data[['Country Name','Country Code','2014']]\n",
    "data_2014.sort_values('2014', ascending=True)[:10]"
   ]
  },
  {
   "cell_type": "markdown",
   "id": "a8f53716-e97e-4ad3-b475-ff39c71759b8",
   "metadata": {},
   "source": [
    "## 03 Exercise pandas dataframe\n",
    "1. Using the dataframe in the above cell find:\n",
    "    1. Mean, Min, Max values for all 4 columns\n",
    "    2. The 2 dates with the largest and smallest sum (by column)\n",
    "    3. All dates where both A's and B's are positive"
   ]
  },
  {
   "cell_type": "code",
   "execution_count": 37,
   "id": "2498ae7c-be3e-4bd5-8493-e32a33f8ae5e",
   "metadata": {},
   "outputs": [
    {
     "name": "stdout",
     "output_type": "stream",
     "text": [
      "                   A         B         C         D\n",
      "2020-06-02 -0.397595 -1.021712 -0.955889  0.305789\n",
      "2020-06-03 -0.916397 -0.694291  1.392986 -1.434113\n",
      "2020-06-04 -1.328007  0.363118 -0.871026 -1.990069\n",
      "2020-06-05 -2.242924 -0.339488 -1.173485  2.118540\n",
      "2020-06-06 -0.533510 -0.320298  0.230559 -0.455743\n",
      "2020-06-07 -1.627848 -0.466459 -0.997179  0.331974\n"
     ]
    }
   ],
   "source": [
    "dates = pd.date_range('20200602', periods=6) # create 6 dates from september 2nd, 2020.\n",
    "df = pd.DataFrame(np.random.randn(6,4), index=dates, columns=list('ABCD')) # use np.random.randn to generate a dataframe of 6 by 4 random numbers\n",
    "print(df)\n",
    "\n",
    "\n"
   ]
  },
  {
   "cell_type": "code",
   "execution_count": 38,
   "id": "0d0eb360-5012-40e4-aa7b-c09466b71c99",
   "metadata": {},
   "outputs": [
    {
     "data": {
      "text/html": [
       "<div>\n",
       "<style scoped>\n",
       "    .dataframe tbody tr th:only-of-type {\n",
       "        vertical-align: middle;\n",
       "    }\n",
       "\n",
       "    .dataframe tbody tr th {\n",
       "        vertical-align: top;\n",
       "    }\n",
       "\n",
       "    .dataframe thead th {\n",
       "        text-align: right;\n",
       "    }\n",
       "</style>\n",
       "<table border=\"1\" class=\"dataframe\">\n",
       "  <thead>\n",
       "    <tr style=\"text-align: right;\">\n",
       "      <th></th>\n",
       "      <th>A</th>\n",
       "      <th>B</th>\n",
       "      <th>C</th>\n",
       "      <th>D</th>\n",
       "    </tr>\n",
       "  </thead>\n",
       "  <tbody>\n",
       "    <tr>\n",
       "      <th>mean</th>\n",
       "      <td>-1.174380</td>\n",
       "      <td>-0.413189</td>\n",
       "      <td>-0.395672</td>\n",
       "      <td>-0.187270</td>\n",
       "    </tr>\n",
       "    <tr>\n",
       "      <th>min</th>\n",
       "      <td>-2.242924</td>\n",
       "      <td>-1.021712</td>\n",
       "      <td>-1.173485</td>\n",
       "      <td>-1.990069</td>\n",
       "    </tr>\n",
       "    <tr>\n",
       "      <th>max</th>\n",
       "      <td>-0.397595</td>\n",
       "      <td>0.363118</td>\n",
       "      <td>1.392986</td>\n",
       "      <td>2.118540</td>\n",
       "    </tr>\n",
       "  </tbody>\n",
       "</table>\n",
       "</div>"
      ],
      "text/plain": [
       "             A         B         C         D\n",
       "mean -1.174380 -0.413189 -0.395672 -0.187270\n",
       "min  -2.242924 -1.021712 -1.173485 -1.990069\n",
       "max  -0.397595  0.363118  1.392986  2.118540"
      ]
     },
     "execution_count": 38,
     "metadata": {},
     "output_type": "execute_result"
    }
   ],
   "source": [
    "df.describe().loc[['mean','min','max']]"
   ]
  },
  {
   "cell_type": "code",
   "execution_count": 62,
   "id": "da3d658f-38d4-4958-a491-8ac23cb09ec1",
   "metadata": {},
   "outputs": [],
   "source": [
    "df[\"Sum\"] = df.sum(axis=1)"
   ]
  },
  {
   "cell_type": "code",
   "execution_count": 74,
   "id": "05cea50e-eabc-4062-80ba-59711a4c347e",
   "metadata": {},
   "outputs": [
    {
     "data": {
      "text/html": [
       "<div>\n",
       "<style scoped>\n",
       "    .dataframe tbody tr th:only-of-type {\n",
       "        vertical-align: middle;\n",
       "    }\n",
       "\n",
       "    .dataframe tbody tr th {\n",
       "        vertical-align: top;\n",
       "    }\n",
       "\n",
       "    .dataframe thead th {\n",
       "        text-align: right;\n",
       "    }\n",
       "</style>\n",
       "<table border=\"1\" class=\"dataframe\">\n",
       "  <thead>\n",
       "    <tr style=\"text-align: right;\">\n",
       "      <th></th>\n",
       "      <th>A</th>\n",
       "      <th>B</th>\n",
       "      <th>C</th>\n",
       "      <th>D</th>\n",
       "      <th>total</th>\n",
       "      <th>Sum</th>\n",
       "    </tr>\n",
       "  </thead>\n",
       "  <tbody>\n",
       "    <tr>\n",
       "      <th>2020-06-04</th>\n",
       "      <td>-1.328007</td>\n",
       "      <td>0.363118</td>\n",
       "      <td>-0.871026</td>\n",
       "      <td>-1.990069</td>\n",
       "      <td>-15.303936</td>\n",
       "      <td>-133.909437</td>\n",
       "    </tr>\n",
       "  </tbody>\n",
       "</table>\n",
       "</div>"
      ],
      "text/plain": [
       "                   A         B         C         D      total         Sum\n",
       "2020-06-04 -1.328007  0.363118 -0.871026 -1.990069 -15.303936 -133.909437"
      ]
     },
     "execution_count": 74,
     "metadata": {},
     "output_type": "execute_result"
    }
   ],
   "source": [
    "df[df['Sum'] ==df.min().loc['Sum']]"
   ]
  },
  {
   "cell_type": "code",
   "execution_count": 75,
   "id": "28347dec-4407-4af7-8b08-03a43c4483ca",
   "metadata": {},
   "outputs": [
    {
     "data": {
      "text/html": [
       "<div>\n",
       "<style scoped>\n",
       "    .dataframe tbody tr th:only-of-type {\n",
       "        vertical-align: middle;\n",
       "    }\n",
       "\n",
       "    .dataframe tbody tr th {\n",
       "        vertical-align: top;\n",
       "    }\n",
       "\n",
       "    .dataframe thead th {\n",
       "        text-align: right;\n",
       "    }\n",
       "</style>\n",
       "<table border=\"1\" class=\"dataframe\">\n",
       "  <thead>\n",
       "    <tr style=\"text-align: right;\">\n",
       "      <th></th>\n",
       "      <th>A</th>\n",
       "      <th>B</th>\n",
       "      <th>C</th>\n",
       "      <th>D</th>\n",
       "      <th>total</th>\n",
       "      <th>Sum</th>\n",
       "    </tr>\n",
       "  </thead>\n",
       "  <tbody>\n",
       "    <tr>\n",
       "      <th>2020-06-06</th>\n",
       "      <td>-0.53351</td>\n",
       "      <td>-0.320298</td>\n",
       "      <td>0.230559</td>\n",
       "      <td>-0.455743</td>\n",
       "      <td>-4.315972</td>\n",
       "      <td>-37.764752</td>\n",
       "    </tr>\n",
       "  </tbody>\n",
       "</table>\n",
       "</div>"
      ],
      "text/plain": [
       "                  A         B         C         D     total        Sum\n",
       "2020-06-06 -0.53351 -0.320298  0.230559 -0.455743 -4.315972 -37.764752"
      ]
     },
     "execution_count": 75,
     "metadata": {},
     "output_type": "execute_result"
    }
   ],
   "source": [
    "df[df['Sum'] ==df.max().loc['Sum']]"
   ]
  }
 ],
 "metadata": {
  "kernelspec": {
   "display_name": "Python 3 (ipykernel)",
   "language": "python",
   "name": "python3"
  },
  "language_info": {
   "codemirror_mode": {
    "name": "ipython",
    "version": 3
   },
   "file_extension": ".py",
   "mimetype": "text/x-python",
   "name": "python",
   "nbconvert_exporter": "python",
   "pygments_lexer": "ipython3",
   "version": "3.10.6"
  }
 },
 "nbformat": 4,
 "nbformat_minor": 5
}
