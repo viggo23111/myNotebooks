{
 "cells": [
  {
   "cell_type": "code",
   "execution_count": 3,
   "id": "7b06d652-ff3d-418b-b250-94a5c4f8e6b6",
   "metadata": {},
   "outputs": [
    {
     "ename": "ValueError",
     "evalue": "not enough values to unpack (expected 3, got 2)",
     "output_type": "error",
     "traceback": [
      "\u001b[0;31m---------------------------------------------------------------------------\u001b[0m",
      "\u001b[0;31mValueError\u001b[0m                                Traceback (most recent call last)",
      "Input \u001b[0;32mIn [3]\u001b[0m, in \u001b[0;36m<cell line: 24>\u001b[0;34m()\u001b[0m\n\u001b[1;32m     21\u001b[0m final_mask \u001b[38;5;241m=\u001b[39m cv2\u001b[38;5;241m.\u001b[39mdilate(final_mask, np\u001b[38;5;241m.\u001b[39mones((\u001b[38;5;241m5\u001b[39m, \u001b[38;5;241m5\u001b[39m), dtype\u001b[38;5;241m=\u001b[39mnp\u001b[38;5;241m.\u001b[39muint8))\n\u001b[1;32m     23\u001b[0m \u001b[38;5;66;03m# Now you can finally find contours.\u001b[39;00m\n\u001b[0;32m---> 24\u001b[0m im, contours, hierarchy \u001b[38;5;241m=\u001b[39m cv2\u001b[38;5;241m.\u001b[39mfindContours(final_mask\u001b[38;5;241m.\u001b[39mcopy(), cv2\u001b[38;5;241m.\u001b[39mRETR_EXTERNAL, cv2\u001b[38;5;241m.\u001b[39mCHAIN_APPROX_NONE)\n\u001b[1;32m     26\u001b[0m final_contours \u001b[38;5;241m=\u001b[39m []\n\u001b[1;32m     27\u001b[0m \u001b[38;5;28;01mfor\u001b[39;00m contour \u001b[38;5;129;01min\u001b[39;00m contours:\n",
      "\u001b[0;31mValueError\u001b[0m: not enough values to unpack (expected 3, got 2)"
     ]
    }
   ],
   "source": [
    "import cv2\n",
    "import numpy as np\n",
    "\n",
    "img_bgr = cv2.imread(\"data/Aeble.jpg.png\")\n",
    "img_hsv = cv2.cvtColor(img_bgr, cv2.COLOR_BGR2HSV_FULL)\n",
    "\n",
    "# Filter out low saturation values, which means gray-scale pixels(majorly in background)\n",
    "bgd_mask = cv2.inRange(img_hsv, np.array([0, 0, 0]), np.array([255, 30, 255]))\n",
    "\n",
    "# Get a mask for pitch black pixel values\n",
    "black_pixels_mask = cv2.inRange(img_bgr, np.array([0, 0, 0]), np.array([70, 70, 70]))\n",
    "\n",
    "# Get the mask for extreme white pixels.\n",
    "white_pixels_mask = cv2.inRange(img_bgr, np.array([230, 230, 230]), np.array([255, 255, 255]))\n",
    "\n",
    "final_mask = cv2.max(bgd_mask, black_pixels_mask)\n",
    "final_mask = cv2.min(final_mask, ~white_pixels_mask)\n",
    "final_mask = ~final_mask\n",
    "\n",
    "final_mask = cv2.erode(final_mask, np.ones((3, 3), dtype=np.uint8))\n",
    "final_mask = cv2.dilate(final_mask, np.ones((5, 5), dtype=np.uint8))\n",
    "\n",
    "# Now you can finally find contours.\n",
    "im, contours, hierarchy = cv2.findContours(final_mask.copy(), cv2.RETR_EXTERNAL, cv2.CHAIN_APPROX_NONE)\n",
    "\n",
    "final_contours = []\n",
    "for contour in contours:\n",
    "    area = cv2.contourArea(contour)\n",
    "    if area > 2000:\n",
    "        final_contours.append(contour)\n",
    "\n",
    "\n",
    "for i in xrange(len(final_contours)):\n",
    "    img_bgr = cv2.drawContours(img_bgr, final_contours, i, np.array([50, 250, 50]), 4)\n",
    "\n",
    "\n",
    "debug_img = img_bgr\n",
    "debug_img = cv2.resize(debug_img, None, fx=0.3, fy=0.3)\n",
    "cv2.imwrite(\"./out.png\", debug_img)"
   ]
  }
 ],
 "metadata": {
  "kernelspec": {
   "display_name": "Python 3 (ipykernel)",
   "language": "python",
   "name": "python3"
  },
  "language_info": {
   "codemirror_mode": {
    "name": "ipython",
    "version": 3
   },
   "file_extension": ".py",
   "mimetype": "text/x-python",
   "name": "python",
   "nbconvert_exporter": "python",
   "pygments_lexer": "ipython3",
   "version": "3.10.6"
  }
 },
 "nbformat": 4,
 "nbformat_minor": 5
}
